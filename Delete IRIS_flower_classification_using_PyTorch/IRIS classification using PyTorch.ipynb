{
 "cells": [
  {
   "cell_type": "code",
   "execution_count": 1,
   "id": "794540a3",
   "metadata": {},
   "outputs": [],
   "source": [
    "import torch\n",
    "import numpy as np\n",
    "import pandas as pd\n",
    "import torch.nn as nn\n",
    "import torch.nn.functional as F\n",
    "import matplotlib.pyplot as plt\n",
    "from sklearn.preprocessing import LabelEncoder\n",
    "from sklearn.model_selection import train_test_split"
   ]
  },
  {
   "cell_type": "markdown",
   "id": "b17e1ea8",
   "metadata": {},
   "source": [
    "#### Import data and split it"
   ]
  },
  {
   "cell_type": "code",
   "execution_count": 2,
   "id": "e89d67bf",
   "metadata": {},
   "outputs": [],
   "source": [
    "df=pd.read_csv(r'S:\\Portfolio\\Extra_Learning\\Data_Science_practice\\DL\\Iris-classification-using-PyTorch-main\\iris.data.csv')"
   ]
  },
  {
   "cell_type": "code",
   "execution_count": 3,
   "id": "d57d2e63",
   "metadata": {},
   "outputs": [
    {
     "data": {
      "text/html": [
       "<div>\n",
       "<style scoped>\n",
       "    .dataframe tbody tr th:only-of-type {\n",
       "        vertical-align: middle;\n",
       "    }\n",
       "\n",
       "    .dataframe tbody tr th {\n",
       "        vertical-align: top;\n",
       "    }\n",
       "\n",
       "    .dataframe thead th {\n",
       "        text-align: right;\n",
       "    }\n",
       "</style>\n",
       "<table border=\"1\" class=\"dataframe\">\n",
       "  <thead>\n",
       "    <tr style=\"text-align: right;\">\n",
       "      <th></th>\n",
       "      <th>5.1</th>\n",
       "      <th>3.5</th>\n",
       "      <th>1.4</th>\n",
       "      <th>0.2</th>\n",
       "      <th>Iris-setosa</th>\n",
       "    </tr>\n",
       "  </thead>\n",
       "  <tbody>\n",
       "    <tr>\n",
       "      <th>0</th>\n",
       "      <td>4.9</td>\n",
       "      <td>3.0</td>\n",
       "      <td>1.4</td>\n",
       "      <td>0.2</td>\n",
       "      <td>Iris-setosa</td>\n",
       "    </tr>\n",
       "    <tr>\n",
       "      <th>1</th>\n",
       "      <td>4.7</td>\n",
       "      <td>3.2</td>\n",
       "      <td>1.3</td>\n",
       "      <td>0.2</td>\n",
       "      <td>Iris-setosa</td>\n",
       "    </tr>\n",
       "    <tr>\n",
       "      <th>2</th>\n",
       "      <td>4.6</td>\n",
       "      <td>3.1</td>\n",
       "      <td>1.5</td>\n",
       "      <td>0.2</td>\n",
       "      <td>Iris-setosa</td>\n",
       "    </tr>\n",
       "  </tbody>\n",
       "</table>\n",
       "</div>"
      ],
      "text/plain": [
       "   5.1  3.5  1.4  0.2  Iris-setosa\n",
       "0  4.9  3.0  1.4  0.2  Iris-setosa\n",
       "1  4.7  3.2  1.3  0.2  Iris-setosa\n",
       "2  4.6  3.1  1.5  0.2  Iris-setosa"
      ]
     },
     "execution_count": 3,
     "metadata": {},
     "output_type": "execute_result"
    }
   ],
   "source": [
    "df.head(3)"
   ]
  },
  {
   "cell_type": "code",
   "execution_count": 4,
   "id": "f13fe744",
   "metadata": {},
   "outputs": [],
   "source": [
    "le = LabelEncoder()\n",
    "df['Iris-setosa'] = le.fit_transform(df['Iris-setosa'])"
   ]
  },
  {
   "cell_type": "code",
   "execution_count": 5,
   "id": "6def75e0",
   "metadata": {},
   "outputs": [
    {
     "data": {
      "text/html": [
       "<div>\n",
       "<style scoped>\n",
       "    .dataframe tbody tr th:only-of-type {\n",
       "        vertical-align: middle;\n",
       "    }\n",
       "\n",
       "    .dataframe tbody tr th {\n",
       "        vertical-align: top;\n",
       "    }\n",
       "\n",
       "    .dataframe thead th {\n",
       "        text-align: right;\n",
       "    }\n",
       "</style>\n",
       "<table border=\"1\" class=\"dataframe\">\n",
       "  <thead>\n",
       "    <tr style=\"text-align: right;\">\n",
       "      <th></th>\n",
       "      <th>5.1</th>\n",
       "      <th>3.5</th>\n",
       "      <th>1.4</th>\n",
       "      <th>0.2</th>\n",
       "      <th>Iris-setosa</th>\n",
       "    </tr>\n",
       "  </thead>\n",
       "  <tbody>\n",
       "    <tr>\n",
       "      <th>0</th>\n",
       "      <td>4.9</td>\n",
       "      <td>3.0</td>\n",
       "      <td>1.4</td>\n",
       "      <td>0.2</td>\n",
       "      <td>0</td>\n",
       "    </tr>\n",
       "    <tr>\n",
       "      <th>1</th>\n",
       "      <td>4.7</td>\n",
       "      <td>3.2</td>\n",
       "      <td>1.3</td>\n",
       "      <td>0.2</td>\n",
       "      <td>0</td>\n",
       "    </tr>\n",
       "    <tr>\n",
       "      <th>2</th>\n",
       "      <td>4.6</td>\n",
       "      <td>3.1</td>\n",
       "      <td>1.5</td>\n",
       "      <td>0.2</td>\n",
       "      <td>0</td>\n",
       "    </tr>\n",
       "    <tr>\n",
       "      <th>3</th>\n",
       "      <td>5.0</td>\n",
       "      <td>3.6</td>\n",
       "      <td>1.4</td>\n",
       "      <td>0.2</td>\n",
       "      <td>0</td>\n",
       "    </tr>\n",
       "    <tr>\n",
       "      <th>4</th>\n",
       "      <td>5.4</td>\n",
       "      <td>3.9</td>\n",
       "      <td>1.7</td>\n",
       "      <td>0.4</td>\n",
       "      <td>0</td>\n",
       "    </tr>\n",
       "  </tbody>\n",
       "</table>\n",
       "</div>"
      ],
      "text/plain": [
       "   5.1  3.5  1.4  0.2  Iris-setosa\n",
       "0  4.9  3.0  1.4  0.2            0\n",
       "1  4.7  3.2  1.3  0.2            0\n",
       "2  4.6  3.1  1.5  0.2            0\n",
       "3  5.0  3.6  1.4  0.2            0\n",
       "4  5.4  3.9  1.7  0.4            0"
      ]
     },
     "execution_count": 5,
     "metadata": {},
     "output_type": "execute_result"
    }
   ],
   "source": [
    "df.head()"
   ]
  },
  {
   "cell_type": "code",
   "execution_count": null,
   "id": "5bbd864e",
   "metadata": {},
   "outputs": [],
   "source": []
  },
  {
   "cell_type": "code",
   "execution_count": 6,
   "id": "2ddd354c",
   "metadata": {},
   "outputs": [],
   "source": [
    "features=df.drop('Iris-setosa',axis=1).values"
   ]
  },
  {
   "cell_type": "code",
   "execution_count": 7,
   "id": "fd8b6bcf",
   "metadata": {},
   "outputs": [],
   "source": [
    "label=df['Iris-setosa'].values"
   ]
  },
  {
   "cell_type": "code",
   "execution_count": 8,
   "id": "bc2770b5",
   "metadata": {},
   "outputs": [],
   "source": [
    "X_train, X_test, y_train, y_test = train_test_split(features,label, test_size=0.2, random_state=33)"
   ]
  },
  {
   "cell_type": "code",
   "execution_count": 9,
   "id": "5b7e7b20",
   "metadata": {},
   "outputs": [],
   "source": [
    "X_train=torch.FloatTensor(X_train)\n",
    "X_test=torch.FloatTensor(X_test)\n",
    "y_train=torch.LongTensor(y_train)\n",
    "y_test=torch.LongTensor(y_test)"
   ]
  },
  {
   "cell_type": "code",
   "execution_count": 10,
   "id": "2e4a2072",
   "metadata": {},
   "outputs": [
    {
     "data": {
      "text/plain": [
       "tensor([[5.7000, 3.0000, 4.2000, 1.2000],\n",
       "        [6.3000, 2.3000, 4.4000, 1.3000],\n",
       "        [7.7000, 2.8000, 6.7000, 2.0000],\n",
       "        [6.5000, 3.0000, 5.5000, 1.8000],\n",
       "        [6.9000, 3.1000, 5.1000, 2.3000]])"
      ]
     },
     "execution_count": 10,
     "metadata": {},
     "output_type": "execute_result"
    }
   ],
   "source": [
    "X_train[:5]"
   ]
  },
  {
   "cell_type": "markdown",
   "id": "1c4e705d",
   "metadata": {},
   "source": [
    "#### Build the class and instantiate it"
   ]
  },
  {
   "cell_type": "code",
   "execution_count": 11,
   "id": "dc786d01",
   "metadata": {},
   "outputs": [],
   "source": [
    "class Model(nn.Module):\n",
    "    def __init__(self,input_features=4,h1=8, h2=9,output=3):\n",
    "        super().__init__()\n",
    "        self.l1=nn.Linear(input_features,h1)\n",
    "        self.l2=nn.Linear(h1,h2)\n",
    "        self.out=nn.Linear(h2,output)\n",
    "        \n",
    "    def forward(self,X):\n",
    "        X=F.relu(self.l1(X))\n",
    "        X=F.relu(self.l2(X))\n",
    "        X=self.out(X)\n",
    "        return X"
   ]
  },
  {
   "cell_type": "code",
   "execution_count": 12,
   "id": "c0d2fb09",
   "metadata": {},
   "outputs": [],
   "source": [
    "torch.manual_seed(41)\n",
    "# model=Model(4,8,9,3)\n",
    "model=Model()"
   ]
  },
  {
   "cell_type": "code",
   "execution_count": 13,
   "id": "78c7aaf5",
   "metadata": {},
   "outputs": [],
   "source": [
    "criterion = nn.CrossEntropyLoss()"
   ]
  },
  {
   "cell_type": "code",
   "execution_count": 14,
   "id": "f954871a",
   "metadata": {},
   "outputs": [
    {
     "name": "stderr",
     "output_type": "stream",
     "text": [
      "C:\\Users\\DELL\\anaconda3\\Lib\\site-packages\\onnxruntime\\capi\\_pybind_state.py:26: UserWarning: Please install the 2019 Visual C++ runtime and then try again. If you've installed the runtime in a non-standard location (other than %SystemRoot%\\System32), make sure it can be found by setting the correct path.\n",
      "  warnings.warn(\"Please install the 2019 Visual C++ runtime and then try again. \"\n"
     ]
    }
   ],
   "source": [
    "optimizer= torch.optim.Adam(model.parameters(),lr=0.01)"
   ]
  },
  {
   "cell_type": "code",
   "execution_count": 15,
   "id": "a5d217c1",
   "metadata": {},
   "outputs": [
    {
     "data": {
      "text/plain": [
       "<bound method Module.parameters of Model(\n",
       "  (l1): Linear(in_features=4, out_features=8, bias=True)\n",
       "  (l2): Linear(in_features=8, out_features=9, bias=True)\n",
       "  (out): Linear(in_features=9, out_features=3, bias=True)\n",
       ")>"
      ]
     },
     "execution_count": 15,
     "metadata": {},
     "output_type": "execute_result"
    }
   ],
   "source": [
    "model.parameters"
   ]
  },
  {
   "cell_type": "markdown",
   "id": "1f0a88ed",
   "metadata": {},
   "source": [
    "#### Training the data"
   ]
  },
  {
   "cell_type": "code",
   "execution_count": 16,
   "id": "ad04edda",
   "metadata": {},
   "outputs": [],
   "source": [
    "epochs=100\n",
    "losses=[]"
   ]
  },
  {
   "cell_type": "code",
   "execution_count": 17,
   "id": "df7a9c98",
   "metadata": {},
   "outputs": [
    {
     "name": "stdout",
     "output_type": "stream",
     "text": [
      "For epoch 0, the loss is 1.1258212327957153\n",
      "For epoch 10, the loss is 1.0227776765823364\n",
      "For epoch 20, the loss is 0.8454235792160034\n",
      "For epoch 30, the loss is 0.6057517528533936\n",
      "For epoch 40, the loss is 0.41028502583503723\n",
      "For epoch 50, the loss is 0.2766762375831604\n",
      "For epoch 60, the loss is 0.1862855702638626\n",
      "For epoch 70, the loss is 0.12983867526054382\n",
      "For epoch 80, the loss is 0.09495951980352402\n",
      "For epoch 90, the loss is 0.07528500258922577\n"
     ]
    }
   ],
   "source": [
    "%timeit \n",
    "for e in range(epochs):\n",
    "    y_pred=model.forward(X_train)\n",
    "    loss=criterion(y_pred,y_train)\n",
    "    losses.append(loss.detach().numpy())\n",
    "    if e%10==0:\n",
    "        print('For epoch {}, the loss is {}'.format(e,loss))\n",
    "    \n",
    "    optimizer.zero_grad()\n",
    "    loss.backward()\n",
    "    optimizer.step()"
   ]
  },
  {
   "cell_type": "code",
   "execution_count": 18,
   "id": "b07ef657",
   "metadata": {},
   "outputs": [
    {
     "data": {
      "text/plain": [
       "[<matplotlib.lines.Line2D at 0x1dd1bc99d10>]"
      ]
     },
     "execution_count": 18,
     "metadata": {},
     "output_type": "execute_result"
    },
    {
     "data": {
      "image/png": "[encoded data removed]",
      "text/plain": [
       "<Figure size 640x480 with 1 Axes>"
      ]
     },
     "metadata": {},
     "output_type": "display_data"
    }
   ],
   "source": [
    "plt.plot(range(epochs),losses)"
   ]
  },
  {
   "cell_type": "code",
   "execution_count": 19,
   "id": "125b6988",
   "metadata": {},
   "outputs": [
    {
     "name": "stdout",
     "output_type": "stream",
     "text": [
      "tensor(0.1088)\n"
     ]
    }
   ],
   "source": [
    "with torch.no_grad():\n",
    "    y_test_pred=model.forward(X_test)\n",
    "    loss=criterion(y_test_pred,y_test)\n",
    "    print(loss)"
   ]
  },
  {
   "cell_type": "code",
   "execution_count": 27,
   "id": "7ddb5d21",
   "metadata": {},
   "outputs": [
    {
     "name": "stdout",
     "output_type": "stream",
     "text": [
      "1 \t 1 \t 1\n",
      "2 \t 1 \t 1\n",
      "3 \t 0 \t 0\n",
      "4 \t 1 \t 1\n",
      "5 \t 2 \t 2\n",
      "6 \t 2 \t 2\n",
      "7 \t 0 \t 0\n",
      "8 \t 0 \t 0\n",
      "9 \t 2 \t 2\n",
      "10 \t 2 \t 2\n",
      "11 \t 2 \t 2\n",
      "12 \t 0 \t 0\n",
      "13 \t 2 \t 2\n",
      "14 \t 1 \t 1\n",
      "15 \t 2 \t 2\n",
      "16 \t 1 \t 1\n",
      "17 \t 2 \t 2\n",
      "18 \t 0 \t 0\n",
      "19 \t 1 \t 1\n",
      "20 \t 2 \t 2\n",
      "21 \t 0 \t 0\n",
      "22 \t 0 \t 0\n",
      "23 \t 2 \t 2\n",
      "24 \t 0 \t 0\n",
      "25 \t 2 \t 2\n",
      "26 \t 2 \t 2\n",
      "27 \t 1 \t 1\n",
      "28 \t 1 \t 1\n",
      "29 \t 2 \t 2\n",
      "30 \t 2 \t 2\n",
      "You have got 30 correct which is 100.0 % correct\n",
      "tensor([-6.8917,  5.0788,  7.2106])\n"
     ]
    }
   ],
   "source": [
    "correct_pred=0\n",
    "for i in range(len(y_test)):\n",
    "    print('{} \\t {} \\t {}'.format(i+1,y_test_pred[i].argmax().item(),y_test[i]))\n",
    "    if y_test_pred[i].argmax().item()==y_test[i]:\n",
    "        correct_pred+=1\n",
    "print('You have got {} correct which is {} % correct'.format(correct, correct*100/len(y_test)))\n",
    "print(y_test_pred[16])"
   ]
  },
  {
   "cell_type": "code",
   "execution_count": 24,
   "id": "afd66d8a",
   "metadata": {},
   "outputs": [],
   "source": [
    "which_iris=torch.tensor([5.6,3.7,2.2,0.5])"
   ]
  },
  {
   "cell_type": "code",
   "execution_count": 25,
   "id": "91e8faaf",
   "metadata": {},
   "outputs": [
    {
     "name": "stdout",
     "output_type": "stream",
     "text": [
      "tensor([ 3.4835, -1.0465, -2.3608], grad_fn=<ViewBackward0>)\n",
      "The correct class is 0\n"
     ]
    }
   ],
   "source": [
    "y_pred=model(which_iris)\n",
    "print(y_pred)\n",
    "print('The correct class is {}'.format(y_pred.argmax().item()))"
   ]
  },
  {
   "cell_type": "code",
   "execution_count": 26,
   "id": "4b5ea470",
   "metadata": {},
   "outputs": [
    {
     "name": "stdout",
     "output_type": "stream",
     "text": [
      "tensor([ 3.4835, -1.0465, -2.3608], grad_fn=<ViewBackward0>)\n",
      "The predicted class is Iris-setosa\n"
     ]
    }
   ],
   "source": [
    "y_pred = model(mystery_iris)\n",
    "print(y_pred)\n",
    "\n",
    "predicted_class_index = y_pred.argmax()\n",
    "predicted_class_label = le.inverse_transform([predicted_class_index])\n",
    "\n",
    "print('The predicted class is {}'.format(predicted_class_label[0]))"
   ]
  },
  {
   "cell_type": "code",
   "execution_count": null,
   "id": "d9c09300",
   "metadata": {},
   "outputs": [],
   "source": []
  }
 ],
 "metadata": {
  "kernelspec": {
   "display_name": "Python 3 (ipykernel)",
   "language": "python",
   "name": "python3"
  },
  "language_info": {
   "codemirror_mode": {
    "name": "ipython",
    "version": 3
   },
   "file_extension": ".py",
   "mimetype": "text/x-python",
   "name": "python",
   "nbconvert_exporter": "python",
   "pygments_lexer": "ipython3",
   "version": "3.11.4"
  }
 },
 "nbformat": 4,
 "nbformat_minor": 5
}
